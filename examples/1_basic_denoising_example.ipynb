{
 "cells": [
  {
   "cell_type": "code",
   "execution_count": 1,
   "id": "6b82ae45-9f64-488b-8b1b-9bc60d2eb821",
   "metadata": {},
   "outputs": [],
   "source": [
    "# (Optional) Enable interactive plotting in Jupyter\n",
    "\n",
    "# For Jupyter notebooks\n",
    "# %matplotlib notebook\n",
    "\n",
    "# For Jupyter lab\n",
    "%matplotlib widget"
   ]
  },
  {
   "cell_type": "code",
   "execution_count": 3,
   "id": "3279db57-0491-4952-bd38-e142efb5545b",
   "metadata": {},
   "outputs": [],
   "source": [
    "import sys\n",
    "import os\n",
    "import numpy as np\n",
    "import matplotlib.pyplot as plt\n",
    "import h5py\n",
    "\n",
    "cwd = os.getcwd()\n",
    "pardir = os.path.abspath(os.path.join(cwd, \"..\"))\n",
    "modeldir = os.path.abspath(os.path.join(pardir, \"models\"))\n",
    "\n",
    "if pardir not in sys.path:\n",
    "    sys.path.append(pardir)\n",
    "\n",
    "from jDAS import JDAS"
   ]
  },
  {
   "cell_type": "markdown",
   "id": "97f2d89c-6354-435d-9f39-9cc9683d1e0b",
   "metadata": {},
   "source": [
    "# Load DAS data\n",
    "\n",
    "For this tutorial, a small sample of real-world DAS data is loaded from `sample_data.npy`. These recordings have a temporal sampling frequency of 50 Hz and a gauge length (and channel spacing) of 19.2 m. The DAS data are organised in a matrix of shape (`# of channels, # of time samples`).\n",
    "\n",
    "**Important**: the input data need to be approximately normalised. This can be achieved by simply dividing the data by standard deviation of the data. No per-channel normalisation is required. To preserve the units and original data scale, store the original data variance and multiply the _jDAS_ reconstructions after the denoising step:\n",
    "\n",
    "```\n",
    "scale = data.std()  # Store original data scale\n",
    "new_data = ...      # jDAS denoising step\n",
    "new_data *= scale   # Restore data scale\n",
    "```\n",
    "\n",
    "The data in this example are already normalised."
   ]
  },
  {
   "cell_type": "code",
   "execution_count": 4,
   "id": "cd25630b-815c-4b3f-bff1-64145a26e7fb",
   "metadata": {},
   "outputs": [],
   "source": [
    "samp = 50.    # Time-sampling frequency [Hz]\n",
    "gauge = 19.2  # Gauge length [m]\n",
    "\n",
    "# Load data\n",
    "data = np.load(\"sample_data.npy\")\n",
    "Nch, Nt = data.shape\n",
    "\n",
    "# Define channel positions and time vector\n",
    "dist = np.arange(Nch) * gauge * 1e-3\n",
    "t = np.arange(Nt) / samp"
   ]
  },
  {
   "cell_type": "markdown",
   "id": "be041c84-0d8b-44f8-b1aa-4dc1f2b7a021",
   "metadata": {},
   "source": [
    "# Denoise data\n",
    "\n",
    "Since the model has been trained on data from the same DAS experiment as the data sample loaded above, retraining the model is not necessary. In a more realistic scenario, when the model is applied to new data, some retraining could improve the denoising accuracy. See `retraining_example.ipynb` for an example of how to retrain the model.\n",
    "\n",
    "Denoising data with _jDAS_ involves 3 simple steps:\n",
    "\n",
    "1. Instantiate the `JDAS` class.\n",
    "2. Load a pretrained model with `JDAS.load_model()`. In this example we load a standard pretrained model, so we set `model_path=None` (default). In the case a model is available that has been retrained on a specific data set, it can be loaded by pointing `model_path` to the directory where the frozen model is stored (e.g. `model_path=\"path/to/model/saved-model.h5\"`).\n",
    "3. Call the denoising routine `JDAS.denoise()` with the data to be denoised. Under the hood, this routine breaks up the data into small chunks of 2048 time samples and reconstructs the data channel-by-channel, after which the junks are concatenated to obtain the same shape as the input (minus the remainder of dividing the data into an integer number of chunks). In some cases it could happen that parasitic low-frequency artifacts are introduced, which can be filtered out with a standard bandpass filter. Since the input data was filtered in a 1-10 Hz pass band, we will apply the same pass band to the _jDAS_ reconstructed data. This behaviour can be disabled by setting `postfilter=False` (default). \n",
    "\n",
    "Note that when calling `JDAS.denoise` for the first time in a session, Keras/TensorFlow will rebuild and optimise the model, which takes some time (of the order of 10 seconds). Once this initiation step is done, the subsequent calls to the model are very fast."
   ]
  },
  {
   "cell_type": "code",
   "execution_count": 5,
   "id": "912deb69-4303-4c1e-9983-88193ba9e081",
   "metadata": {},
   "outputs": [],
   "source": [
    "fmin = 1.\n",
    "fmax = 10.\n",
    "\n",
    "jdas = JDAS()\n",
    "model = jdas.load_model()\n",
    "clean_data = jdas.denoise(data, postfilter=True, filter_band=(fmin, fmax, samp))"
   ]
  },
  {
   "cell_type": "markdown",
   "id": "6ce3a64f-edc3-4079-b680-214649fab9f8",
   "metadata": {},
   "source": [
    "# Plot data"
   ]
  },
  {
   "cell_type": "code",
   "execution_count": 7,
   "id": "4e46729a-7f83-45de-877d-ff139cee93d2",
   "metadata": {},
   "outputs": [
    {
     "data": {
      "application/vnd.jupyter.widget-view+json": {
       "model_id": "57b1fa318bd64819871b493b2b54a857",
       "version_major": 2,
       "version_minor": 0
      },
      "text/plain": [
       "Canvas(toolbar=Toolbar(toolitems=[('Home', 'Reset original view', 'home', 'home'), ('Back', 'Back to previous …"
      ]
     },
     "metadata": {},
     "output_type": "display_data"
    }
   ],
   "source": [
    "# Plotting parameters\n",
    "imshow_kwargs = {\n",
    "    \"interpolation\": \"antialiased\",\n",
    "    \"aspect\": \"auto\",\n",
    "    \"vmin\": -0.5,\n",
    "    \"vmax\": 0.5,\n",
    "    \"extent\": [t.min(), t.max(), dist.max(), dist.min()],\n",
    "}\n",
    "\n",
    "# Close all other figures\n",
    "plt.close(\"all\")\n",
    "# Draw the canvas (2 columns)\n",
    "fig, axes = plt.subplots(ncols=2, figsize=(9.5, 5), constrained_layout=True, sharey=\"all\")\n",
    "\n",
    "# Loop over columns and data sets (original and denoised data)\n",
    "for ax, d, title in zip(axes, (data, clean_data), (\"Original DAS data\", \"$jDAS$ reconstruction\")):\n",
    "    ax.imshow(d, **imshow_kwargs)\n",
    "    ax.set_xlabel(\"Time [s]\")\n",
    "    ax.set_title(title)\n",
    "    \n",
    "axes[0].set_ylabel(\"Distance along cable [km]\")\n",
    "\n",
    "plt.show()"
   ]
  },
  {
   "cell_type": "code",
   "execution_count": null,
   "id": "2ef6bf26-b595-456b-90ec-ec7f47337191",
   "metadata": {},
   "outputs": [],
   "source": []
  }
 ],
 "metadata": {
  "kernelspec": {
   "display_name": "Python 3",
   "language": "python",
   "name": "python3"
  },
  "language_info": {
   "codemirror_mode": {
    "name": "ipython",
    "version": 3
   },
   "file_extension": ".py",
   "mimetype": "text/x-python",
   "name": "python",
   "nbconvert_exporter": "python",
   "pygments_lexer": "ipython3",
   "version": "3.8.8"
  }
 },
 "nbformat": 4,
 "nbformat_minor": 5
}
