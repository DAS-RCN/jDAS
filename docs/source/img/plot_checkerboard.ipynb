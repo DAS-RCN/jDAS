{
 "cells": [
  {
   "cell_type": "code",
   "execution_count": 1,
   "id": "9d4b0937-8abb-439b-a4d9-8797e913cebf",
   "metadata": {},
   "outputs": [],
   "source": [
    "%matplotlib widget"
   ]
  },
  {
   "cell_type": "code",
   "execution_count": 86,
   "id": "a31ee599-b722-4715-b543-b13dfa66720f",
   "metadata": {},
   "outputs": [],
   "source": [
    "import numpy as np\n",
    "import matplotlib.pyplot as plt\n",
    "from matplotlib.patches import Rectangle"
   ]
  },
  {
   "cell_type": "code",
   "execution_count": 58,
   "id": "339eac52-7b85-40e3-bf8c-a00122d21665",
   "metadata": {},
   "outputs": [],
   "source": []
  },
  {
   "cell_type": "code",
   "execution_count": 158,
   "id": "b0bf38e9-2ffe-4b5e-bb62-a0e805d92a65",
   "metadata": {},
   "outputs": [
    {
     "data": {
      "application/vnd.jupyter.widget-view+json": {
       "model_id": "1af2871e6c3349e38674e2d0d1a61e32",
       "version_major": 2,
       "version_minor": 0
      },
      "text/plain": [
       "Canvas(toolbar=Toolbar(toolitems=[('Home', 'Reset original view', 'home', 'home'), ('Back', 'Back to previous …"
      ]
     },
     "metadata": {},
     "output_type": "display_data"
    }
   ],
   "source": [
    "rng = np.random.default_rng(42)\n",
    "\n",
    "imshow_kwargs = {\n",
    "    \"interpolation\": \"none\",\n",
    "    \"vmin\": 0,\n",
    "    \"vmax\": 1,\n",
    "    \"cmap\": \"binary\",\n",
    "}\n",
    "\n",
    "rect_kwargs = {\n",
    "    \"facecolor\": \"white\",\n",
    "    \"zorder\": 999,\n",
    "    \"alpha\": 0.95\n",
    "}\n",
    "\n",
    "N = 6\n",
    "\n",
    "x = np.zeros((N, N))\n",
    "for i in range(N):\n",
    "    if i % 2 == 0:\n",
    "        x[0, i] = 1\n",
    "        \n",
    "for i in range(N):\n",
    "    x[i] = np.roll(x[0], i)\n",
    "\n",
    "        \n",
    "noise = rng.uniform(size=(4, 1000)) * N\n",
    "\n",
    "rect1 = Rectangle(xy=(0.5, 0.5), width=2, height=2, **rect_kwargs)\n",
    "rect2 = Rectangle(xy=(-0.5, 2.5), width=N, height=3, **rect_kwargs)\n",
    "rect3 = Rectangle(xy=(2.5, -0.5), width=3, height=3, **rect_kwargs)\n",
    "rect4 = Rectangle(xy=(-0.5, -0.5), width=1, height=3, **rect_kwargs)\n",
    "rect5 = Rectangle(xy=(0.5, -0.5), width=2, height=1, **rect_kwargs)\n",
    "\n",
    "offset = 6.68\n",
    "model = Rectangle(xy=(offset, 1.0), width=2, height=3, facecolor=\"C2\", linewidth=2, edgecolor=\"k\", clip_on=False, alpha=0.5)\n",
    "        \n",
    "plt.close(\"all\")\n",
    "fig, axes = plt.subplots(ncols=2, figsize=(9, 4))\n",
    "\n",
    "ax = axes[0]\n",
    "ax.imshow(x, **imshow_kwargs)\n",
    "\n",
    "for i in np.arange(-1, N, 1):\n",
    "    ax.plot([i + 0.5, i + 0.5], [-0.5, N - 0.5], c=\"gray\", lw=2)\n",
    "    ax.plot([-0.5, N - 0.5], [i + 0.5, i + 0.5], c=\"gray\", lw=2)\n",
    "    \n",
    "\n",
    "ax.scatter(noise[0] - 0.5, noise[1] - 0.5, s=1, c=\"r\")\n",
    "ax.scatter(noise[2] - 0.5, noise[3] - 0.5, s=1, c=\"c\")\n",
    "\n",
    "ax.add_patch(rect1)\n",
    "ax.text(x=1.5, y=1.6, s=\"Hidden\\npartition J\", ha=\"center\", va=\"center\", color=\"k\", fontsize=12, zorder=1000)\n",
    "ax.text(x=1.5, y=1.0, s=\"(not accessible)\", ha=\"center\", va=\"center\", color=\"k\", fontsize=8, zorder=1000)\n",
    "    \n",
    "ax.axis(\"off\")\n",
    "ax.set_xlim((-1, N))\n",
    "ax.set_ylim((-1, N))\n",
    "ax.set_title(\"Input data\", fontsize=18)\n",
    "\n",
    "\n",
    "\n",
    "ax = axes[1]\n",
    "ax.imshow(x, **imshow_kwargs)\n",
    "\n",
    "for i in np.arange(-1, N, 1):\n",
    "    ax.plot([i + 0.5, i + 0.5], [-0.5, N - 0.5], c=\"gray\", lw=2)\n",
    "    ax.plot([-0.5, N - 0.5], [i + 0.5, i + 0.5], c=\"gray\", lw=2)\n",
    "    \n",
    "for i, c in enumerate((\"r\", \"c\")):\n",
    "    inds = (noise[2*i] >= 1) & (noise[2*i] <= 3)\n",
    "    inds = inds & (noise[2*i+1] >= 1) & (noise[2*i+1] <= 3)\n",
    "    ax.scatter(noise[2*i][~inds] - 0.5, noise[2*i+1][~inds] - 0.5, s=1, c=c)\n",
    "    \n",
    "for patch in (rect2, rect3, rect4, rect5):\n",
    "    ax.add_patch(patch)\n",
    "    \n",
    "ax.text(x=3.5, y=4.0, s=\"Complementary\\npartition J$^c$\", zorder=1000, ha=\"center\", va=\"center\", fontsize=12)\n",
    "    \n",
    "ax.axis(\"off\")\n",
    "ax.set_xlim((-1, N))\n",
    "ax.set_ylim((-1, N))\n",
    "ax.set_title(\"Reconstruction\", fontsize=18)\n",
    "\n",
    "plt.tight_layout()\n",
    "plt.subplots_adjust(wspace=0.4)\n",
    "\n",
    "axes[0].add_patch(model)\n",
    "axes[0].text(x=offset+1, y=2.5, s=\"$jDAS$\\nmodel\", ha=\"center\", va=\"center\", clip_on=False, fontsize=14)\n",
    "axes[0].plot([5.5, offset], [-0.5, 1.0], \"k-\", clip_on=False)\n",
    "axes[0].plot([5.5, offset], [5.5, 4.0], \"k-\", clip_on=False)\n",
    "\n",
    "axes[0].plot([offset+2, offset+2+(offset-5.5)], [1.0, -0.5], \"k-\", clip_on=False)\n",
    "axes[0].plot([offset+2, offset+2+(offset-5.5)], [4.0, 5.5], \"k-\", clip_on=False)\n",
    "\n",
    "plt.savefig(\"jDAS_concept.png\")\n",
    "plt.show()"
   ]
  },
  {
   "cell_type": "code",
   "execution_count": null,
   "id": "a13add55-2fa5-4e4f-91e1-714b02df5736",
   "metadata": {},
   "outputs": [],
   "source": []
  }
 ],
 "metadata": {
  "kernelspec": {
   "display_name": "Python 3",
   "language": "python",
   "name": "python3"
  },
  "language_info": {
   "codemirror_mode": {
    "name": "ipython",
    "version": 3
   },
   "file_extension": ".py",
   "mimetype": "text/x-python",
   "name": "python",
   "nbconvert_exporter": "python",
   "pygments_lexer": "ipython3",
   "version": "3.8.8"
  }
 },
 "nbformat": 4,
 "nbformat_minor": 5
}
